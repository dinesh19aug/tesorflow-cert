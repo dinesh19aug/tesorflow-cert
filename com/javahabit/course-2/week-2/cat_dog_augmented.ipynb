{
 "cells": [
  {
   "cell_type": "markdown",
   "metadata": {
    "collapsed": true,
    "pycharm": {
     "name": "#%% md\n"
    }
   },
   "source": [
    "# Image Augumentation\n",
    "Augmentation is the process of creating data using existing dataset. In this, given a small set of images, more images can be created by rotating the images across different axis.\n",
    "\n",
    "## Why?\n",
    "When we have a small dataset of image, there is a high chance that data will overfit the training dataset. Imagine a cat that is sitting or standing,is a part of a give dataset of 100 images. If you train the dataset with those images, but the validation dataset has many images where the cats are lying down or lying on thier back and looking upside down, the validation accuracy would be very low. Augmentation of random taring dataset can create more images by rotating the images on horizontal and vertical axis or across z-axis can help us :\n",
    "- Create more images\n",
    "- Create a variety of images\n",
    "- Slow down training"
   ]
  },
  {
   "cell_type": "code",
   "execution_count": 27,
   "metadata": {
    "pycharm": {
     "name": "#%%\n"
    }
   },
   "outputs": [],
   "source": [
    "import tensorflow as tf\n",
    "\n",
    "#Define cats and dogs base folders\n",
    "basedir = 'c:/Dinesh/github-proj/tensorflow-cert/data/cats_and_dogs_filtered/'\n",
    "train_cats = basedir + 'train/cats'\n",
    "train_dogs =  basedir + 'train/dogs'\n",
    "valid_cats = basedir + 'validation/cats'\n",
    "valid_dogs =  basedir + 'validation/dogs'\n"
   ]
  },
  {
   "cell_type": "code",
   "execution_count": 28,
   "metadata": {
    "pycharm": {
     "name": "#%%\n"
    }
   },
   "outputs": [],
   "source": [
    "#Define model\n",
    "layers = tf.keras.layers\n",
    "model = tf.keras.models.Sequential([\n",
    "    layers.Conv2D(16,kernel_size=(3,3),input_shape=(150,150,3)),\n",
    "    layers.MaxPooling2D(2,2),\n",
    "    layers.Conv2D(32,kernel_size=(3,3),activation='relu'),\n",
    "    layers.MaxPooling2D(2,2),\n",
    "    layers.Conv2D(64,kernel_size=(3,3),activation='relu'),\n",
    "    layers.MaxPooling2D(2,2),\n",
    "    layers.Flatten(),\n",
    "    layers.Dense(512, activation='relu'),\n",
    "    layers.Dense(128, activation='relu'),\n",
    "    layers.Dense(1,activation='sigmoid')\n",
    "\n",
    "])"
   ]
  },
  {
   "cell_type": "code",
   "execution_count": 29,
   "metadata": {
    "pycharm": {
     "is_executing": true,
     "name": "#%%\n"
    }
   },
   "outputs": [],
   "source": [
    "#Define compilation and error loss\n",
    "from tensorflow.keras.optimizers import RMSprop\n",
    "model.compile(loss='binary_crossentropy',\n",
    "              optimizer=RMSprop(lr=1e-4),\n",
    "              metrics=['accuracy'])"
   ]
  },
  {
   "cell_type": "code",
   "execution_count": 30,
   "metadata": {
    "pycharm": {
     "is_executing": true,
     "name": "#%%\n"
    }
   },
   "outputs": [
    {
     "name": "stdout",
     "output_type": "stream",
     "text": [
      "Found 2000 images belonging to 2 classes.\n",
      "Found 1000 images belonging to 2 classes.\n"
     ]
    }
   ],
   "source": [
    "from tensorflow.keras.preprocessing.image import ImageDataGenerator\n",
    "#Define input feed\n",
    "train_data = ImageDataGenerator(rescale=1.0/255.)\n",
    "test_data = ImageDataGenerator(rescale=1.0/255.)\n",
    "\n",
    "train_data=train_data.flow_from_directory(basedir+'train',\n",
    "                               target_size=(150,150),\n",
    "                               batch_size=10,\n",
    "                               class_mode='binary')\n",
    "test_data=test_data.flow_from_directory(basedir + 'validation',\n",
    "                              batch_size=10,\n",
    "                              target_size=(150, 150),\n",
    "                              class_mode='binary')\n",
    "\n"
   ]
  },
  {
   "cell_type": "code",
   "execution_count": 36,
   "metadata": {
    "pycharm": {
     "is_executing": true,
     "name": "#%%\n"
    }
   },
   "outputs": [
    {
     "name": "stdout",
     "output_type": "stream",
     "text": [
      "Epoch 1/20\n",
      "100/100 - 33s - loss: 0.3228 - accuracy: 0.8660 - val_loss: 0.6362 - val_accuracy: 0.6960\n",
      "Epoch 2/20\n",
      "100/100 - 38s - loss: 0.2790 - accuracy: 0.8860 - val_loss: 0.5747 - val_accuracy: 0.7280\n",
      "Epoch 3/20\n",
      "100/100 - 36s - loss: 0.2726 - accuracy: 0.8840 - val_loss: 0.6481 - val_accuracy: 0.6940\n",
      "Epoch 4/20\n",
      "100/100 - 31s - loss: 0.2315 - accuracy: 0.9080 - val_loss: 0.7663 - val_accuracy: 0.6740\n",
      "Epoch 5/20\n",
      "100/100 - 31s - loss: 0.2007 - accuracy: 0.9300 - val_loss: 0.6560 - val_accuracy: 0.7060\n",
      "Epoch 6/20\n",
      "100/100 - 35s - loss: 0.1768 - accuracy: 0.9400 - val_loss: 0.7348 - val_accuracy: 0.7160\n",
      "Epoch 7/20\n",
      "100/100 - 38s - loss: 0.1508 - accuracy: 0.9520 - val_loss: 0.7521 - val_accuracy: 0.6940\n",
      "Epoch 8/20\n",
      "100/100 - 33s - loss: 0.1408 - accuracy: 0.9570 - val_loss: 0.7611 - val_accuracy: 0.7200\n",
      "Epoch 9/20\n",
      "100/100 - 32s - loss: 0.1130 - accuracy: 0.9600 - val_loss: 0.8799 - val_accuracy: 0.6860\n",
      "Epoch 10/20\n",
      "100/100 - 34s - loss: 0.0989 - accuracy: 0.9740 - val_loss: 0.8065 - val_accuracy: 0.7160\n",
      "Epoch 11/20\n",
      "100/100 - 33s - loss: 0.0776 - accuracy: 0.9730 - val_loss: 0.8328 - val_accuracy: 0.7240\n",
      "Epoch 12/20\n",
      "100/100 - 36s - loss: 0.0722 - accuracy: 0.9700 - val_loss: 0.9425 - val_accuracy: 0.7180\n",
      "Epoch 13/20\n",
      "100/100 - 47s - loss: 0.0587 - accuracy: 0.9810 - val_loss: 0.9732 - val_accuracy: 0.7100\n",
      "Epoch 14/20\n",
      "100/100 - 39s - loss: 0.0502 - accuracy: 0.9860 - val_loss: 0.9163 - val_accuracy: 0.7180\n",
      "Epoch 15/20\n",
      "100/100 - 31s - loss: 0.0457 - accuracy: 0.9860 - val_loss: 0.9181 - val_accuracy: 0.7140\n",
      "Epoch 16/20\n",
      "100/100 - 32s - loss: 0.0448 - accuracy: 0.9870 - val_loss: 0.9514 - val_accuracy: 0.7220\n",
      "Epoch 17/20\n",
      "100/100 - 31s - loss: 0.0248 - accuracy: 0.9960 - val_loss: 0.9664 - val_accuracy: 0.7340\n",
      "Epoch 18/20\n",
      "100/100 - 31s - loss: 0.0332 - accuracy: 0.9910 - val_loss: 1.3620 - val_accuracy: 0.6980\n",
      "Epoch 19/20\n",
      "100/100 - 32s - loss: 0.0240 - accuracy: 0.9920 - val_loss: 1.2163 - val_accuracy: 0.7160\n",
      "Epoch 20/20\n",
      "100/100 - 31s - loss: 0.0249 - accuracy: 0.9930 - val_loss: 1.2876 - val_accuracy: 0.7040\n"
     ]
    }
   ],
   "source": [
    "history=model.fit(train_data,\n",
    "          \n",
    "          steps_per_epoch=100,\n",
    "          epochs=20,\n",
    "          \n",
    "          validation_data=test_data,\n",
    "          validation_steps=50,\n",
    "          \n",
    "          verbose=2\n",
    "          )\n",
    "\n",
    "\n"
   ]
  },
  {
   "cell_type": "code",
   "execution_count": 37,
   "metadata": {
    "pycharm": {
     "is_executing": true,
     "name": "#%%\n"
    }
   },
   "outputs": [
    {
     "data": {
      "image/png": "[encoded data removed]",
      "text/plain": [
       "<Figure size 432x288 with 1 Axes>"
      ]
     },
     "metadata": {
      "needs_background": "light"
     },
     "output_type": "display_data"
    },
    {
     "data": {
      "image/png": "[encoded data removed]",
      "text/plain": [
       "<Figure size 432x288 with 1 Axes>"
      ]
     },
     "metadata": {
      "needs_background": "light"
     },
     "output_type": "display_data"
    }
   ],
   "source": [
    "from matplotlib import pyplot as plt\n",
    "acc      = history.history[     'accuracy' ]\n",
    "val_acc  = history.history[ 'val_accuracy' ]\n",
    "loss     = history.history[    'loss' ]\n",
    "val_loss = history.history['val_loss' ]\n",
    "\n",
    "epochs = range(len(acc))\n",
    "\n",
    "#Plot validation accuracy\n",
    "plt.plot(epochs, acc, 'bo', label='Training accuracy')\n",
    "plt.plot(epochs, val_acc, 'b', label='Validation accuracy')\n",
    "plt.title('Training and validation accuracy')\n",
    "\n",
    "plt.figure()\n",
    "\n",
    "plt.plot(epochs, loss, 'bo', label='Training Loss')\n",
    "plt.plot(epochs, val_loss, 'b', label='Validation Loss')\n",
    "plt.title('Training and validation loss')\n",
    "plt.legend()\n",
    "\n",
    "plt.show()\n",
    "\n",
    "\n"
   ]
  },
  {
   "cell_type": "code",
   "execution_count": null,
   "outputs": [],
   "source": [
    "#Define input feed\n",
    "train_data = ImageDataGenerator(\n",
    "      rescale=1./255,\n",
    "      rotation_range=40,\n",
    "      width_shift_range=0.2,\n",
    "      height_shift_range=0.2,\n",
    "      shear_range=0.2,\n",
    "      zoom_range=0.2,\n",
    "      horizontal_flip=True,\n",
    "      fill_mode='nearest')\n",
    "test_data = ImageDataGenerator(rescale=1.0/255.)\n",
    "\n",
    "train_data=train_data.flow_from_directory(basedir+'train',\n",
    "                               target_size=(150,150),\n",
    "                               batch_size=10,\n",
    "                               class_mode='binary')\n",
    "test_data=test_data.flow_from_directory(basedir + 'validation',\n",
    "                              batch_size=10,\n",
    "                              target_size=(150, 150),\n",
    "                              class_mode='binary')\n",
    "\n"
   ],
   "metadata": {
    "collapsed": false,
    "pycharm": {
     "name": "#%%\n"
    }
   }
  },
  {
   "cell_type": "code",
   "execution_count": null,
   "outputs": [],
   "source": [
    "history=model.fit_generator(train_data,\n",
    "          \n",
    "          steps_per_epoch=100,\n",
    "          epochs=100,\n",
    "          \n",
    "          validation_data=test_data,\n",
    "          validation_steps=50,\n",
    "          \n",
    "          verbose=2\n",
    "          )"
   ],
   "metadata": {
    "collapsed": false,
    "pycharm": {
     "name": "#%%\n"
    }
   }
  },
  {
   "cell_type": "code",
   "execution_count": null,
   "outputs": [],
   "source": [
    "acc      = history.history[     'accuracy' ]\n",
    "val_acc  = history.history[ 'val_accuracy' ]\n",
    "loss     = history.history[    'loss' ]\n",
    "val_loss = history.history['val_loss' ]\n",
    "\n",
    "epochs = range(len(acc))\n",
    "\n",
    "#Plot validation accuracy\n",
    "plt.plot(epochs, acc, 'bo', label='Training accuracy')\n",
    "plt.plot(epochs, val_acc, 'b', label='Validation accuracy')\n",
    "plt.title('Training and validation accuracy')\n",
    "\n",
    "plt.figure()\n",
    "\n",
    "plt.plot(epochs, loss, 'bo', label='Training Loss')\n",
    "plt.plot(epochs, val_loss, 'b', label='Validation Loss')\n",
    "plt.title('Training and validation loss')\n",
    "plt.legend()\n",
    "\n",
    "plt.show()"
   ],
   "metadata": {
    "collapsed": false,
    "pycharm": {
     "name": "#%%\n"
    }
   }
  },
  {
   "cell_type": "code",
   "execution_count": 39,
   "metadata": {},
   "outputs": [
    {
     "name": "stdout",
     "output_type": "stream",
     "text": [
      "Found 2000 images belonging to 2 classes.\n",
      "Found 1000 images belonging to 2 classes.\n"
     ]
    }
   ],
   "source": []
  },
  {
   "cell_type": "code",
   "execution_count": null,
   "metadata": {},
   "outputs": [
    {
     "name": "stdout",
     "output_type": "stream",
     "text": [
      "Epoch 1/100\n",
      "100/100 - 34s - loss: 0.5473 - accuracy: 0.7250 - val_loss: 0.5994 - val_accuracy: 0.7200\n",
      "Epoch 2/100\n",
      "100/100 - 34s - loss: 0.5524 - accuracy: 0.7080 - val_loss: 0.5026 - val_accuracy: 0.7440\n",
      "Epoch 3/100\n",
      "100/100 - 35s - loss: 0.5456 - accuracy: 0.7240 - val_loss: 0.5001 - val_accuracy: 0.7500\n",
      "Epoch 4/100\n",
      "100/100 - 35s - loss: 0.5358 - accuracy: 0.7340 - val_loss: 0.5070 - val_accuracy: 0.7600\n",
      "Epoch 5/100\n",
      "100/100 - 34s - loss: 0.5491 - accuracy: 0.7220 - val_loss: 0.5070 - val_accuracy: 0.7760\n",
      "Epoch 6/100\n",
      "100/100 - 34s - loss: 0.5247 - accuracy: 0.7420 - val_loss: 0.5027 - val_accuracy: 0.7480\n",
      "Epoch 7/100\n",
      "100/100 - 35s - loss: 0.5394 - accuracy: 0.7250 - val_loss: 0.5647 - val_accuracy: 0.7740\n",
      "Epoch 8/100\n",
      "100/100 - 35s - loss: 0.5347 - accuracy: 0.7090 - val_loss: 0.5492 - val_accuracy: 0.7200\n",
      "Epoch 9/100\n",
      "100/100 - 35s - loss: 0.5448 - accuracy: 0.7250 - val_loss: 0.5248 - val_accuracy: 0.7480\n",
      "Epoch 10/100\n",
      "100/100 - 35s - loss: 0.5135 - accuracy: 0.7390 - val_loss: 0.5139 - val_accuracy: 0.7540\n",
      "Epoch 11/100\n",
      "100/100 - 35s - loss: 0.5360 - accuracy: 0.7280 - val_loss: 0.5154 - val_accuracy: 0.7320\n",
      "Epoch 12/100\n",
      "100/100 - 35s - loss: 0.5286 - accuracy: 0.7430 - val_loss: 0.5068 - val_accuracy: 0.7520\n",
      "Epoch 13/100\n",
      "100/100 - 35s - loss: 0.5252 - accuracy: 0.7430 - val_loss: 0.5975 - val_accuracy: 0.6940\n",
      "Epoch 14/100\n",
      "100/100 - 35s - loss: 0.5242 - accuracy: 0.7490 - val_loss: 0.5433 - val_accuracy: 0.7180\n",
      "Epoch 15/100\n",
      "100/100 - 35s - loss: 0.5185 - accuracy: 0.7420 - val_loss: 0.5101 - val_accuracy: 0.7360\n",
      "Epoch 16/100\n",
      "100/100 - 35s - loss: 0.5471 - accuracy: 0.7210 - val_loss: 0.5704 - val_accuracy: 0.6940\n",
      "Epoch 17/100\n",
      "100/100 - 36s - loss: 0.5305 - accuracy: 0.7390 - val_loss: 0.5374 - val_accuracy: 0.7240\n",
      "Epoch 18/100\n",
      "100/100 - 36s - loss: 0.5132 - accuracy: 0.7410 - val_loss: 0.5340 - val_accuracy: 0.7440\n",
      "Epoch 19/100\n",
      "100/100 - 36s - loss: 0.4979 - accuracy: 0.7710 - val_loss: 0.4683 - val_accuracy: 0.7780\n",
      "Epoch 20/100\n",
      "100/100 - 35s - loss: 0.5026 - accuracy: 0.7540 - val_loss: 0.6142 - val_accuracy: 0.7320\n",
      "Epoch 21/100\n",
      "100/100 - 35s - loss: 0.5201 - accuracy: 0.7450 - val_loss: 0.5196 - val_accuracy: 0.7480\n",
      "Epoch 22/100\n",
      "100/100 - 34s - loss: 0.5142 - accuracy: 0.7470 - val_loss: 0.5281 - val_accuracy: 0.7660\n",
      "Epoch 23/100\n"
     ]
    }
   ],
   "source": [
    "history=model.fit(train_data,\n",
    "          \n",
    "          steps_per_epoch=100,\n",
    "          epochs=100,\n",
    "          \n",
    "          validation_data=test_data,\n",
    "          validation_steps=50,\n",
    "          \n",
    "          verbose=2\n",
    "          )"
   ]
  },
  {
   "cell_type": "code",
   "execution_count": null,
   "metadata": {},
   "outputs": [],
   "source": [
    "acc      = history.history[     'accuracy' ]\n",
    "val_acc  = history.history[ 'val_accuracy' ]\n",
    "loss     = history.history[    'loss' ]\n",
    "val_loss = history.history['val_loss' ]\n",
    "\n",
    "epochs = range(len(acc))\n",
    "\n",
    "#Plot validation accuracy\n",
    "plt.plot(epochs, acc, 'bo', label='Training accuracy')\n",
    "plt.plot(epochs, val_acc, 'b', label='Validation accuracy')\n",
    "plt.title('Training and validation accuracy')\n",
    "\n",
    "plt.figure()\n",
    "\n",
    "plt.plot(epochs, loss, 'bo', label='Training Loss')\n",
    "plt.plot(epochs, val_loss, 'b', label='Validation Loss')\n",
    "plt.title('Training and validation loss')\n",
    "plt.legend()\n",
    "\n",
    "plt.show()"
   ]
  },
  {
   "cell_type": "code",
   "execution_count": null,
   "metadata": {},
   "outputs": [],
   "source": []
  }
 ],
 "metadata": {
  "kernelspec": {
   "display_name": "Python 3",
   "language": "python",
   "name": "python3"
  },
  "language_info": {
   "codemirror_mode": {
    "name": "ipython",
    "version": 3
   },
   "file_extension": ".py",
   "mimetype": "text/x-python",
   "name": "python",
   "nbconvert_exporter": "python",
   "pygments_lexer": "ipython3",
   "version": "3.6.10"
  }
 },
 "nbformat": 4,
 "nbformat_minor": 1
}