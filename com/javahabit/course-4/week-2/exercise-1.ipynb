{
 "cells": [
  {
   "cell_type": "code",
   "execution_count": 70,
   "metadata": {
    "collapsed": true
   },
   "outputs": [],
   "source": [
    "import tensorflow as tf\n",
    "\n",
    "#range is used to create a range of 10 numbers starting with 0\n",
    "dataset = tf.data.Dataset.range(10)\n",
    "#window(sise of window, stride= skip by x, shift=next line should skip the range by y, drop_remainder will drop window size less than 5)\n",
    "dataset = dataset.window(5,shift=1, stride=1, drop_remainder=True)\n",
    "\n",
    "\n"
   ]
  },
  {
   "cell_type": "code",
   "execution_count": 71,
   "outputs": [
    {
     "name": "stdout",
     "output_type": "stream",
     "text": [
      "0 1 2 3 4 \n",
      "1 2 3 4 5 \n",
      "2 3 4 5 6 \n",
      "3 4 5 6 7 \n",
      "4 5 6 7 8 \n",
      "5 6 7 8 9 \n"
     ]
    }
   ],
   "source": [
    "#Print the set of 5 as numpy\n",
    "for values in dataset:\n",
    "    for v in values:\n",
    "        print(v.numpy(), end=\" \")\n",
    "    print()\n"
   ],
   "metadata": {
    "collapsed": false,
    "pycharm": {
     "name": "#%%\n"
    }
   }
  },
  {
   "cell_type": "code",
   "execution_count": 72,
   "outputs": [
    {
     "name": "stdout",
     "output_type": "stream",
     "text": [
      "[0 1 2 3 4]\n",
      "[1 2 3 4 5]\n",
      "[2 3 4 5 6]\n",
      "[3 4 5 6 7]\n",
      "[4 5 6 7 8]\n",
      "[5 6 7 8 9]\n"
     ]
    }
   ],
   "source": [
    "#print the datset by squashing two for loop to 1 using flat map\n",
    "dataset = dataset.flat_map(lambda z: z.batch(5))\n",
    "for value in dataset:\n",
    "    print(value.numpy())\n"
   ],
   "metadata": {
    "collapsed": false,
    "pycharm": {
     "name": "#%%\n"
    }
   }
  },
  {
   "cell_type": "markdown",
   "source": [
    "### Break the dataet into features and labels.\n",
    "- All values from 0.. (n-1) = features\n",
    "- Last values 'n' = label"
   ],
   "metadata": {
    "collapsed": false
   }
  },
  {
   "cell_type": "code",
   "execution_count": 92,
   "outputs": [
    {
     "name": "stdout",
     "output_type": "stream",
     "text": [
      "[0 1 2 3] [4]\n",
      "[1 2 3 4] [5]\n",
      "[2 3 4 5] [6]\n",
      "[3 4 5 6] [7]\n",
      "[4 5 6 7] [8]\n",
      "[5 6 7 8] [9]\n",
      "After shuffling\n",
      "[0 1 2 3] [4]\n",
      "[2 3 4 5] [6]\n",
      "[3 4 5 6] [7]\n",
      "[4 5 6 7] [8]\n",
      "[1 2 3 4] [5]\n",
      "[5 6 7 8] [9]\n",
      "After batching\n",
      "X=  [[4 5 6 7]\n",
      " [0 1 2 3]\n",
      " [2 3 4 5]]\n",
      "Y=  [[8]\n",
      " [4]\n",
      " [6]]\n",
      "X=  [[3 4 5 6]\n",
      " [5 6 7 8]\n",
      " [1 2 3 4]]\n",
      "Y=  [[7]\n",
      " [9]\n",
      " [5]]\n"
     ]
    }
   ],
   "source": [
    "'''\n",
    "Map is like hashmap in java key = values. Here we are defining it like this format\n",
    "[0,1,2,3: 4]\n",
    "'''\n",
    "dataset = tf.data.Dataset.range(10)\n",
    "dataset = dataset.window(5,shift=1, stride=1, drop_remainder=True)\n",
    "dataset = dataset.flat_map(lambda z: z.batch(5))\n",
    "dataset = dataset.map(lambda z: (z[:-1], z[-1:]))\n",
    "for x,y in dataset:\n",
    "    print(x.numpy(), y.numpy())\n",
    "\n",
    "#Shuffle the data\n",
    "print(\"After shuffling\")\n",
    "dataset = dataset.shuffle(buffer_size=10, seed=21)\n",
    "for x,y in dataset:\n",
    "    print(x.numpy(), y.numpy())\n",
    "\n",
    "#Batch the data\n",
    "print(\"After batching\")\n",
    "dataset = dataset.batch(batch_size=3).prefetch(1)\n",
    "for x,y in dataset:\n",
    "    print(\"X= \", x.numpy())\n",
    "    print(\"Y= \",  y.numpy())\n"
   ],
   "metadata": {
    "collapsed": false,
    "pycharm": {
     "name": "#%%\n"
    }
   }
  }
 ],
 "metadata": {
  "kernelspec": {
   "name": "pycharm-367aca07",
   "language": "python",
   "display_name": "PyCharm (tensorflow-cert)"
  },
  "language_info": {
   "codemirror_mode": {
    "name": "ipython",
    "version": 2
   },
   "file_extension": ".py",
   "mimetype": "text/x-python",
   "name": "python",
   "nbconvert_exporter": "python",
   "pygments_lexer": "ipython2",
   "version": "2.7.6"
  }
 },
 "nbformat": 4,
 "nbformat_minor": 0
}