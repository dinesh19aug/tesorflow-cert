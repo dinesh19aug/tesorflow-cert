{
 "cells": [
  {
   "cell_type": "markdown",
   "metadata": {
    "collapsed": true,
    "pycharm": {
     "name": "#%% md\n"
    }
   },
   "source": [
    "#Sequence 3\n",
    "\n",
    "## Create vector to handel out of vocabulary words"
   ]
  },
  {
   "cell_type": "code",
   "execution_count": 2,
   "outputs": [
    {
     "name": "stdout",
     "output_type": "stream",
     "text": [
      "['I love my dog', 'I, love cats', 'You love your dog!']\n"
     ]
    }
   ],
   "source": [
    "import tensorflow as tf\n",
    "from tensorflow import keras\n",
    "from tensorflow.keras.preprocessing.text import Tokenizer\n",
    "\n",
    "sentences = ['I love my dog',\n",
    "             'I, love cats',\n",
    "             'You love your dog!']\n",
    "\n",
    "print (sentences)"
   ],
   "metadata": {
    "collapsed": false,
    "pycharm": {
     "name": "#%%\n"
    }
   }
  },
  {
   "cell_type": "code",
   "execution_count": 5,
   "outputs": [
    {
     "name": "stdout",
     "output_type": "stream",
     "text": [
      "[[3, 2, 5, 4], [3, 2, 6], [7, 2, 8, 4]]\n"
     ]
    }
   ],
   "source": [
    "tokenizer = Tokenizer(num_words=100, oov_token='<OOV>')\n",
    "word_tokens = tokenizer.fit_on_texts(sentences)\n",
    "sentence_tokens = tokenizer.texts_to_sequences(sentences)\n",
    "print(sentence_tokens)\n"
   ],
   "metadata": {
    "collapsed": false,
    "pycharm": {
     "name": "#%%\n"
    }
   }
  },
  {
   "cell_type": "code",
   "source": [
    "### Check with test data\n",
    "test_sentences = ['How is my dog doing?',\n",
    "                    'my dog loves my mantee']\n",
    "print(test_sentences)\n",
    "test_sequences= tokenizer.texts_to_sequences(test_sentences)\n",
    "print(test_sequences)\n",
    "print(tokenizer.sequences_to_texts(test_sequences))"
   ],
   "metadata": {
    "collapsed": false,
    "pycharm": {
     "name": "#%%\n"
    }
   },
   "execution_count": 8,
   "outputs": [
    {
     "name": "stdout",
     "output_type": "stream",
     "text": [
      "['How is my dog doing?', 'my dog loves my mantee']\n",
      "[[1, 1, 5, 4, 1], [5, 4, 1, 5, 1]]\n",
      "['<OOV> <OOV> my dog <OOV>', 'my dog <OOV> my <OOV>']\n"
     ]
    }
   ]
  }
 ],
 "metadata": {
  "kernelspec": {
   "display_name": "Python 3",
   "language": "python",
   "name": "python3"
  },
  "language_info": {
   "codemirror_mode": {
    "name": "ipython",
    "version": 2
   },
   "file_extension": ".py",
   "mimetype": "text/x-python",
   "name": "python",
   "nbconvert_exporter": "python",
   "pygments_lexer": "ipython2",
   "version": "2.7.6"
  }
 },
 "nbformat": 4,
 "nbformat_minor": 0
}