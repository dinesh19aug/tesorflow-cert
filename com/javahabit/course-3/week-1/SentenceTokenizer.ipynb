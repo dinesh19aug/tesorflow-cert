{
 "cells": [
  {
   "cell_type": "code",
   "execution_count": 0,
   "metadata": {
    "collapsed": true
   },
   "outputs": [],
   "source": []
  },
  {
   "cell_type": "markdown",
   "source": [
    "# Sequence 1\n",
    "## Create a sentence tokenzier.\n"
   ],
   "metadata": {
    "collapsed": false
   }
  },
  {
   "cell_type": "code",
   "execution_count": 23,
   "outputs": [
    {
     "name": "stdout",
     "output_type": "stream",
     "text": [
      "['I love my dog', 'I, love cats', 'You love your dog!']\n"
     ]
    }
   ],
   "source": [
    "import tensorflow as tf\n",
    "from tensorflow import keras\n",
    "from tensorflow.keras.preprocessing.text import Tokenizer\n",
    "\n",
    "sentences = ['I love my dog',\n",
    "             'I, love cats',\n",
    "             'You love your dog!']\n",
    "\n",
    "print (sentences)"
   ],
   "metadata": {
    "collapsed": false,
    "pycharm": {
     "name": "#%%\n"
    }
   }
  },
  {
   "cell_type": "markdown",
   "source": [
    "## Define the Tokenizer"
   ],
   "metadata": {
    "collapsed": false
   }
  },
  {
   "cell_type": "code",
   "execution_count": 24,
   "outputs": [],
   "source": [
    "tokenizer = Tokenizer(num_words=100)\n",
    "tokenizer.fit_on_texts(sentences)\n"
   ],
   "metadata": {
    "collapsed": false,
    "pycharm": {
     "name": "#%%\n"
    }
   }
  },
  {
   "cell_type": "markdown",
   "source": [
    "### Print word vector:\n",
    "-  This shows the what index is provided to a word\n",
    "```\n",
    "tokenizer.word_index or tokenizer.index_word\n",
    "```"
   ],
   "metadata": {
    "collapsed": false
   }
  },
  {
   "cell_type": "code",
   "execution_count": 25,
   "outputs": [
    {
     "name": "stdout",
     "output_type": "stream",
     "text": [
      "word_index:  {'love': 1, 'i': 2, 'dog': 3, 'my': 4, 'cats': 5, 'you': 6, 'your': 7}\n",
      "index_word {1: 'love', 2: 'i', 3: 'dog', 4: 'my', 5: 'cats', 6: 'you', 7: 'your'}\n"
     ]
    }
   ],
   "source": [
    "print(\"word_index: \" ,tokenizer.word_index)\n",
    "print(\"index_word\", tokenizer.index_word)\n"
   ],
   "metadata": {
    "collapsed": false,
    "pycharm": {
     "name": "#%%\n"
    }
   }
  },
  {
   "cell_type": "markdown",
   "source": [
    "### Print word counts\n",
    "- This will print how many times a word is present in all the sentences.\n",
    "\n",
    "```\n",
    "  tokenizer.word_counts (ordered dictionary in the way sentence is read)\n",
    "  tokenizer.word_docs(unordered)\n",
    "```"
   ],
   "metadata": {
    "collapsed": false
   }
  },
  {
   "cell_type": "code",
   "execution_count": 11,
   "outputs": [
    {
     "name": "stdout",
     "output_type": "stream",
     "text": [
      "word_docs: \n",
      " defaultdict(<class 'int'>, {'my': 2, 'i': 2, 'love': 3, 'dog': 3, 'cats': 1, 'your': 1, 'you': 1, 'loves': 1, 'manatee': 1})\n"
     ]
    }
   ],
   "source": [
    "print(\"word_docs: \\n\", tokenizer.word_docs)"
   ],
   "metadata": {
    "collapsed": false,
    "pycharm": {
     "name": "#%%\n"
    }
   }
  },
  {
   "cell_type": "code",
   "execution_count": 26,
   "outputs": [
    {
     "name": "stdout",
     "output_type": "stream",
     "text": [
      "word_counts: \n",
      " OrderedDict([('i', 2), ('love', 3), ('my', 1), ('dog', 2), ('cats', 1), ('you', 1), ('your', 1)])\n"
     ]
    }
   ],
   "source": [
    "print(\"word_counts: \\n\",tokenizer.word_counts)"
   ],
   "metadata": {
    "collapsed": false,
    "pycharm": {
     "name": "#%%\n"
    }
   }
  },
  {
   "cell_type": "markdown",
   "source": [
    "### Now we create a sentence tokenizer\n",
    "- This will create a group of word tokens in arrays."
   ],
   "metadata": {
    "collapsed": false,
    "pycharm": {
     "name": "#%% md\n"
    }
   }
  },
  {
   "cell_type": "code",
   "execution_count": 27,
   "outputs": [
    {
     "name": "stdout",
     "output_type": "stream",
     "text": [
      "{1: 'love', 2: 'i', 3: 'dog', 4: 'my', 5: 'cats', 6: 'you', 7: 'your'}\n",
      "[[2, 1, 4, 3], [2, 1, 5], [6, 1, 7, 3]]\n"
     ]
    }
   ],
   "source": [
    "sentence_tokens = tokenizer.texts_to_sequences(sentences)\n",
    "print (tokenizer.index_word)\n",
    "print(sentence_tokens)\n"
   ],
   "metadata": {
    "collapsed": false,
    "pycharm": {
     "name": "#%%\n"
    }
   }
  },
  {
   "cell_type": "markdown",
   "source": [
    "### Now test your data on a set of sentences that we have not seen before\n"
   ],
   "metadata": {
    "collapsed": false
   }
  },
  {
   "cell_type": "code",
   "execution_count": 29,
   "outputs": [
    {
     "name": "stdout",
     "output_type": "stream",
     "text": [
      "[[2, 1, 4, 3], [4, 3, 4]]\n"
     ]
    }
   ],
   "source": [
    "test_data = ['I really love my dog',\n",
    "             'my dog loves my manatee']\n",
    "\n",
    "test_result = tokenizer.texts_to_sequences(test_data)\n",
    "print(test_result)\n",
    "\n"
   ],
   "metadata": {
    "collapsed": false,
    "pycharm": {
     "name": "#%%\n"
    }
   }
  },
  {
   "cell_type": "markdown",
   "source": [
    "### Missing values or unseen values\n",
    "- We can that word 'really' is missing.\n",
    "- The last sentece is captured as 'my dog my'"
   ],
   "metadata": {
    "collapsed": false
   }
  },
  {
   "cell_type": "code",
   "execution_count": 30,
   "outputs": [
    {
     "name": "stdout",
     "output_type": "stream",
     "text": [
      "['i love my dog', 'my dog my']\n"
     ]
    }
   ],
   "source": [
    "print(tokenizer.sequences_to_texts(test_result))\n"
   ],
   "metadata": {
    "collapsed": false,
    "pycharm": {
     "name": "#%%\n"
    }
   }
  }
 ],
 "metadata": {
  "kernelspec": {
   "display_name": "Python 3",
   "language": "python",
   "name": "python3"
  },
  "language_info": {
   "codemirror_mode": {
    "name": "ipython",
    "version": 2
   },
   "file_extension": ".py",
   "mimetype": "text/x-python",
   "name": "python",
   "nbconvert_exporter": "python",
   "pygments_lexer": "ipython2",
   "version": "2.7.6"
  }
 },
 "nbformat": 4,
 "nbformat_minor": 0
}