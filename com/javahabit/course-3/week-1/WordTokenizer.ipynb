{
 "cells": [
  {
   "cell_type": "markdown",
   "source": [
    "## Create a vector token out of set of words.\n"
   ],
   "metadata": {
    "collapsed": false,
    "pycharm": {
     "name": "#%% md\n"
    }
   }
  },
  {
   "cell_type": "code",
   "source": [
    "import tensorflow as tf\n",
    "from tensorflow import keras\n",
    "from tensorflow.keras.preprocessing.text import Tokenizer\n",
    "\n",
    "sentences = ['I love my dog',\n",
    "             'I, love cats',\n",
    "             'You love your dog!']\n",
    "\n",
    "print (sentences)"
   ],
   "metadata": {
    "collapsed": false,
    "pycharm": {
     "name": "#%%\n"
    }
   },
   "execution_count": 17,
   "outputs": [
    {
     "name": "stdout",
     "output_type": "stream",
     "text": [
      "['I love my dog', 'I, love cats', 'You love your dog!']\n"
     ]
    }
   ]
  },
  {
   "cell_type": "markdown",
   "source": [
    "## Define the Tokenizer\n"
   ],
   "metadata": {
    "collapsed": false,
    "pycharm": {
     "name": "#%% md\n"
    }
   }
  },
  {
   "cell_type": "code",
   "execution_count": 18,
   "outputs": [],
   "source": [
    "tokenizer = Tokenizer(num_words=100)\n",
    "tokenizer.fit_on_texts(sentences)\n"
   ],
   "metadata": {
    "collapsed": false,
    "pycharm": {
     "name": "#%%\n"
    }
   }
  },
  {
   "cell_type": "markdown",
   "source": [
    "### Print word vector:\n",
    "-  This shows the what index is provided to a word\n",
    "```\n",
    "tokenizer.word_index or tokenizer.index_word\n",
    "```"
   ],
   "metadata": {
    "collapsed": false,
    "pycharm": {
     "name": "#%% md\n"
    }
   }
  },
  {
   "cell_type": "code",
   "execution_count": 19,
   "outputs": [
    {
     "name": "stdout",
     "output_type": "stream",
     "text": [
      "word_index:  {'love': 1, 'i': 2, 'dog': 3, 'my': 4, 'cats': 5, 'you': 6, 'your': 7}\n",
      "index_word {1: 'love', 2: 'i', 3: 'dog', 4: 'my', 5: 'cats', 6: 'you', 7: 'your'}\n"
     ]
    }
   ],
   "source": [
    "print(\"word_index: \" ,tokenizer.word_index)\n",
    "print(\"index_word\", tokenizer.index_word)\n",
    "\n"
   ],
   "metadata": {
    "collapsed": false,
    "pycharm": {
     "name": "#%%\n"
    }
   }
  },
  {
   "cell_type": "markdown",
   "source": [
    "### Print word counts\n",
    "- This will print how many times a word is present in all the sentences.\n",
    "\n",
    "```\n",
    "  tokenizer.word_counts (ordered dictionary in the way sentence is read)\n",
    "  tokenizer.word_docs(unordered\n",
    "```"
   ],
   "metadata": {
    "collapsed": false,
    "pycharm": {
     "name": "#%% md\n"
    }
   }
  },
  {
   "cell_type": "code",
   "execution_count": 20,
   "outputs": [
    {
     "name": "stdout",
     "output_type": "stream",
     "text": [
      "word_docs: \n",
      " defaultdict(<class 'int'>, {'dog': 2, 'i': 2, 'my': 1, 'love': 3, 'cats': 1, 'you': 1, 'your': 1})\n"
     ]
    }
   ],
   "source": [
    "print(\"word_docs: \\n\", tokenizer.word_docs)"
   ],
   "metadata": {
    "collapsed": false,
    "pycharm": {
     "name": "#%%\n"
    }
   }
  },
  {
   "cell_type": "code",
   "execution_count": 21,
   "outputs": [
    {
     "name": "stdout",
     "output_type": "stream",
     "text": [
      "word_counts: \n",
      " OrderedDict([('i', 2), ('love', 3), ('my', 1), ('dog', 2), ('cats', 1), ('you', 1), ('your', 1)])\n"
     ]
    }
   ],
   "source": [
    "print(\"word_counts: \\n\",tokenizer.word_counts)"
   ],
   "metadata": {
    "collapsed": false,
    "pycharm": {
     "name": "#%%\n"
    }
   }
  },
  {
   "cell_type": "markdown",
   "source": [
    "### If\n",
    "\n",
    "\n"
   ],
   "metadata": {
    "collapsed": false,
    "pycharm": {
     "name": "#%% md\n"
    }
   }
  }
 ],
 "metadata": {
  "kernelspec": {
   "display_name": "Python 3",
   "language": "python",
   "name": "python3"
  },
  "language_info": {
   "codemirror_mode": {
    "name": "ipython",
    "version": 2
   },
   "file_extension": ".py",
   "mimetype": "text/x-python",
   "name": "python",
   "nbconvert_exporter": "python",
   "pygments_lexer": "ipython2",
   "version": "2.7.6"
  }
 },
 "nbformat": 4,
 "nbformat_minor": 0
}