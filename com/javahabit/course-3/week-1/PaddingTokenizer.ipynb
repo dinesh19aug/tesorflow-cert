{
 "cells": [
  {
   "cell_type": "code",
   "execution_count": null,
   "metadata": {
    "collapsed": true
   },
   "outputs": [],
   "source": []
  },
  {
   "cell_type": "markdown",
   "source": [
    "#Sequence 4\n",
    "\n",
    "## Create vector to handel out of vocabulary words"
   ],
   "metadata": {
    "collapsed": false
   }
  },
  {
   "cell_type": "code",
   "execution_count": 13,
   "outputs": [
    {
     "name": "stdout",
     "output_type": "stream",
     "text": [
      "['I love my dog', 'I, love cats', 'You love your dog!', 'Do you think my dog is amazing?']\n"
     ]
    }
   ],
   "source": [
    "import tensorflow as tf\n",
    "from tensorflow import keras\n",
    "from tensorflow.keras.preprocessing.text import Tokenizer\n",
    "from tensorflow.keras.preprocessing.sequence import pad_sequences\n",
    "\n",
    "sentences = ['I love my dog',\n",
    "             'I, love cats',\n",
    "             'You love your dog!',\n",
    "             'Do you think my dog is amazing?']\n",
    "\n",
    "print (sentences)"
   ],
   "metadata": {
    "collapsed": false,
    "pycharm": {
     "name": "#%%\n"
    }
   }
  },
  {
   "cell_type": "code",
   "execution_count": 14,
   "outputs": [
    {
     "name": "stdout",
     "output_type": "stream",
     "text": [
      "[[4, 2, 5, 3], [4, 2, 7], [6, 2, 8, 3], [9, 6, 10, 5, 3, 11, 12]]\n"
     ]
    }
   ],
   "source": [
    "tokenizer = Tokenizer(num_words=100, oov_token='<OOV>')\n",
    "word_tokens = tokenizer.fit_on_texts(sentences)\n",
    "sentence_tokens = tokenizer.texts_to_sequences(sentences)\n",
    "print(sentence_tokens)\n"
   ],
   "metadata": {
    "collapsed": false,
    "pycharm": {
     "name": "#%%\n"
    }
   }
  },
  {
   "cell_type": "code",
   "execution_count": 16,
   "outputs": [
    {
     "name": "stdout",
     "output_type": "stream",
     "text": [
      "['How is my dog doing?', 'my dog loves my mantee']\n",
      "[[1, 11, 5, 3, 1], [5, 3, 1, 5, 1]]\n",
      "['<OOV> is my dog <OOV>', 'my dog <OOV> my <OOV>']\n"
     ]
    }
   ],
   "source": [
    "### Check with test data\n",
    "test_sentences = ['How is my dog doing?',\n",
    "                    'my dog loves my mantee']\n",
    "print(test_sentences)\n",
    "test_sequences= tokenizer.texts_to_sequences(test_sentences)\n",
    "print(test_sequences)\n",
    "print(tokenizer.sequences_to_texts(test_sequences))"
   ],
   "metadata": {
    "collapsed": false,
    "pycharm": {
     "name": "#%%\n"
    }
   }
  },
  {
   "cell_type": "markdown",
   "source": [
    "### Now Add Padding"
   ],
   "metadata": {
    "collapsed": false,
    "pycharm": {
     "name": "#%% md\n"
    }
   }
  },
  {
   "cell_type": "code",
   "execution_count": 17,
   "outputs": [
    {
     "name": "stdout",
     "output_type": "stream",
     "text": [
      "[[ 0  0  0  4  2  5  3]\n",
      " [ 0  0  0  0  4  2  7]\n",
      " [ 0  0  0  6  2  8  3]\n",
      " [ 9  6 10  5  3 11 12]]\n"
     ]
    }
   ],
   "source": [
    "padded_sequences = pad_sequences(sentence_tokens)\n",
    "print(padded_sequences)"
   ],
   "metadata": {
    "collapsed": false,
    "pycharm": {
     "name": "#%%\n"
    }
   }
  },
  {
   "cell_type": "code",
   "execution_count": null,
   "outputs": [],
   "source": [
    "\n"
   ],
   "metadata": {
    "collapsed": false,
    "pycharm": {
     "name": "#%%\n"
    }
   }
  }
 ],
 "metadata": {
  "kernelspec": {
   "display_name": "Python 3",
   "language": "python",
   "name": "python3"
  },
  "language_info": {
   "codemirror_mode": {
    "name": "ipython",
    "version": 2
   },
   "file_extension": ".py",
   "mimetype": "text/x-python",
   "name": "python",
   "nbconvert_exporter": "python",
   "pygments_lexer": "ipython2",
   "version": "2.7.6"
  }
 },
 "nbformat": 4,
 "nbformat_minor": 0
}